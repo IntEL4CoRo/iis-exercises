{
 "cells": [
  {
   "attachments": {},
   "cell_type": "markdown",
   "id": "396ae36f-6db4-4726-92cc-9362a93668e1",
   "metadata": {},
   "source": [
    "# Exercise2: Robots and their Environment\n",
    "\n",
    "With this exercise, you will understand the URDF (Unified Robot Description Format) structure, creating a simple robot model, and exam your robot in RViz."
   ]
  },
  {
   "cell_type": "markdown",
   "id": "a4747cac-3bec-4ab5-b178-15629033b07f",
   "metadata": {},
   "source": [
    "## Part1: Tutorial\n",
    "\n",
    "### Fetch the tutorial materials"
   ]
  },
  {
   "cell_type": "code",
   "execution_count": null,
   "id": "43b38e14-88de-4cb2-a872-fcdebee7cfd2",
   "metadata": {
    "scrolled": true
   },
   "outputs": [],
   "source": [
    "!git clone https://github.com/ros/urdf_tutorial.git -b ros2\n",
    "!cp urdf_tutorial/urdf/* $PWD"
   ]
  },
  {
   "cell_type": "markdown",
   "id": "13f167a5-9590-4f7a-80df-08ffd772055c",
   "metadata": {},
   "source": [
    "### ROS Official URDF Tutorial\n",
    "\n",
    "|  Tutorials |  Name | URDF File (click to open file)  |\n",
    "|---|---|---|\n",
    "| [Building a visual robot model from scratch](https://docs.ros.org/en/humble/Tutorials/Intermediate/URDF/Building-a-Visual-Robot-Model-with-URDF-from-Scratch.html) | One Shape | [01-myfirst.urdf](./01-myfirst.urdf) |\n",
    "|  |  Multiple Shapes  | [02-multipleshapes.urdf](./02-multipleshapes.urdf)  |\n",
    "|   |  Origins |  [03-origins.urdf.urdf](./03-origins.urdf.urdf) |\n",
    "|   |  Material |  [04-materials.urdf](./04-materials.urdf)|\n",
    "|   |  Completed Visual Model |  [05-visual.urdf](./05-visual.urdf) |\n",
    "|  [Building a movable robot model](https://docs.ros.org/en/humble/Tutorials/Intermediate/URDF/Building-a-Movable-Robot-Model-with-URDF.html) | Movable Robot Model |  [06-flexible.urdf](./06-flexible.urdf) |\n",
    "| [Adding physical and collision properties](https://docs.ros.org/en/humble/Tutorials/Intermediate/URDF/Adding-Physical-and-Collision-Properties-to-a-URDF-Model.html) |  Physical and Collision | [07-physics.urdf](./07-physics.urdf) |\n",
    "| [Using Xacro to clean up your code](https://docs.ros.org/en/humble/Tutorials/Intermediate/URDF/Using-Xacro-to-Clean-Up-a-URDF-File.html) |  Using Xacro |   [08-macroed.urdf.xacro](./08-macroed.urdf.xacro) |"
   ]
  },
  {
   "cell_type": "markdown",
   "id": "a171598c-bfd2-4d10-9b31-18176d504456",
   "metadata": {},
   "source": [
    "#### Display remote desktop\n",
    "Open a virtual display to show the visualization tool Rviz. Arrange the layout of the tabs by dragging them."
   ]
  },
  {
   "cell_type": "code",
   "execution_count": null,
   "id": "35b5d47a-85b4-4570-b95e-3405913b28a5",
   "metadata": {},
   "outputs": [],
   "source": [
    "%run ../utils.py\n",
    "display_desktop(anchor='split-right')"
   ]
  },
  {
   "cell_type": "markdown",
   "id": "177b4362-9088-410a-95ac-5236e233e330",
   "metadata": {},
   "source": [
    "#### Examine URDF files in Rviz\n",
    "\n",
    "> Reopen the Rviz after modifying the URDF file.\n",
    "\n",
    "> Press the stop button to close the opened Rviz window and run the code cell again."
   ]
  },
  {
   "cell_type": "code",
   "execution_count": null,
   "id": "7c8b8ec4-51ec-401e-bf45-9cebef4b916a",
   "metadata": {
    "scrolled": true
   },
   "outputs": [],
   "source": [
    "%%bash\n",
    "ros2 launch urdf_tutorial display.launch.py model:=$PWD/01-myfirst.urdf"
   ]
  },
  {
   "cell_type": "markdown",
   "id": "f7e5834a-f530-48b5-983a-7c0c424c2909",
   "metadata": {},
   "source": [
    "## Part2: Tasks"
   ]
  },
  {
   "attachments": {},
   "cell_type": "markdown",
   "id": "41166f0a-c067-4cb5-9112-274fd9568297",
   "metadata": {},
   "source": [
    "### 1. Create your own robot and Environment URDF\n",
    "\n",
    "1. Modify [myrobot.urdf](./myrobot.urdf) to build your own robot and environment.\n",
    "2. Examine your URDF, make sure it displays correctly in Rviz!\n",
    "1. Download your URDF file and submit it to the edx."
   ]
  },
  {
   "cell_type": "markdown",
   "id": "bfd7d2a5-13bf-46f1-8c44-9894b6b56bb7",
   "metadata": {},
   "source": [
    "#### Examine your model"
   ]
  },
  {
   "cell_type": "code",
   "execution_count": null,
   "id": "d82d7caa-eb6d-4052-a3d1-f166be31e9ba",
   "metadata": {
    "scrolled": true
   },
   "outputs": [],
   "source": [
    "%%bash\n",
    "ros2 launch urdf_tutorial display.launch.py model:=$PWD/myrobot.urdf"
   ]
  },
  {
   "cell_type": "markdown",
   "id": "ef4f697b-4a97-4610-93aa-fe08d60b28c3",
   "metadata": {},
   "source": [
    "### 2. URDF generation using LLM\n",
    "\n",
    "Trying to generate URDF with large language models (e.g., [ChatGPT](https://chatgpt.com/), [Genmini](https://gemini.google.com), [Open Source Model](https://huggingface.co/))."
   ]
  },
  {
   "cell_type": "code",
   "execution_count": null,
   "id": "ca570746-e3c8-449a-b448-e0e8484dc7f2",
   "metadata": {},
   "outputs": [],
   "source": []
  }
 ],
 "metadata": {
  "kernelspec": {
   "display_name": "Python 3 (ipykernel)",
   "language": "python",
   "name": "python3"
  },
  "language_info": {
   "codemirror_mode": {
    "name": "ipython",
    "version": 3
   },
   "file_extension": ".py",
   "mimetype": "text/x-python",
   "name": "python",
   "nbconvert_exporter": "python",
   "pygments_lexer": "ipython3",
   "version": "3.10.11"
  }
 },
 "nbformat": 4,
 "nbformat_minor": 5
}
