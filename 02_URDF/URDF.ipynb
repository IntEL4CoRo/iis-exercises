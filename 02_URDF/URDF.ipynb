{
 "cells": [
  {
   "attachments": {},
   "cell_type": "markdown",
   "id": "396ae36f-6db4-4726-92cc-9362a93668e1",
   "metadata": {},
   "source": [
    "# Exercise2: Robots and their Environment\n",
    "\n",
    "With this exercise, you will understand the URDF (Unified Robot Description Format) structure, creating a simple robot model, and exam your robot in RViz."
   ]
  },
  {
   "cell_type": "markdown",
   "id": "a4747cac-3bec-4ab5-b178-15629033b07f",
   "metadata": {
    "jp-MarkdownHeadingCollapsed": true
   },
   "source": [
    "## Part1: Tutorial\n",
    "\n",
    "### Fetch the tutorial materials"
   ]
  },
  {
   "cell_type": "code",
   "execution_count": null,
   "id": "43b38e14-88de-4cb2-a872-fcdebee7cfd2",
   "metadata": {
    "scrolled": true
   },
   "outputs": [],
   "source": [
    "!git clone https://github.com/ros/urdf_tutorial.git -b ros2\n",
    "!cp urdf_tutorial/urdf/* $PWD"
   ]
  },
  {
   "cell_type": "markdown",
   "id": "13f167a5-9590-4f7a-80df-08ffd772055c",
   "metadata": {},
   "source": [
    "### ROS Official URDF Tutorial\n",
    "\n",
    "|  Tutorials |  Name | URDF File (click to open file)  |\n",
    "|---|---|---|\n",
    "| [Building a visual robot model from scratch](https://docs.ros.org/en/humble/Tutorials/Intermediate/URDF/Building-a-Visual-Robot-Model-with-URDF-from-Scratch.html) | One Shape | [01-myfirst.urdf](./01-myfirst.urdf) |\n",
    "|  |  Multiple Shapes  | [02-multipleshapes.urdf](./02-multipleshapes.urdf)  |\n",
    "|   |  Origins |  [03-origins.urdf.urdf](./03-origins.urdf.urdf) |\n",
    "|   |  Material |  [04-materials.urdf](./04-materials.urdf)|\n",
    "|   |  Completed Visual Model |  [05-visual.urdf](./05-visual.urdf) |\n",
    "|  [Building a movable robot model](https://docs.ros.org/en/humble/Tutorials/Intermediate/URDF/Building-a-Movable-Robot-Model-with-URDF.html) | Movable Robot Model |  [06-flexible.urdf](./06-flexible.urdf) |\n",
    "| [Adding physical and collision properties](https://docs.ros.org/en/humble/Tutorials/Intermediate/URDF/Adding-Physical-and-Collision-Properties-to-a-URDF-Model.html) |  Physical and Collision | [07-physics.urdf](./07-physics.urdf) |\n",
    "| [Using Xacro to clean up your code](https://docs.ros.org/en/humble/Tutorials/Intermediate/URDF/Using-Xacro-to-Clean-Up-a-URDF-File.html) |  Using Xacro |   [08-macroed.urdf.xacro](./08-macroed.urdf.xacro) |"
   ]
  },
  {
   "cell_type": "markdown",
   "id": "a171598c-bfd2-4d10-9b31-18176d504456",
   "metadata": {},
   "source": [
    "#### Display remote desktop\n",
    "Open a virtual display to show the visualization tool Rviz. Arrange the layout of the tabs by dragging them."
   ]
  },
  {
   "cell_type": "code",
   "execution_count": null,
   "id": "35b5d47a-85b4-4570-b95e-3405913b28a5",
   "metadata": {},
   "outputs": [],
   "source": [
    "%run ../utils.py\n",
    "display_desktop()"
   ]
  },
  {
   "cell_type": "markdown",
   "id": "177b4362-9088-410a-95ac-5236e233e330",
   "metadata": {},
   "source": [
    "#### Examine URDF files in Rviz\n",
    "\n",
    "> Reopen the Rviz after modifying the URDF file.\n",
    "\n",
    "> Press the stop button to close the opened Rviz window and run the code cell again."
   ]
  },
  {
   "cell_type": "code",
   "execution_count": null,
   "id": "7c8b8ec4-51ec-401e-bf45-9cebef4b916a",
   "metadata": {
    "scrolled": true
   },
   "outputs": [],
   "source": [
    "%%bash\n",
    "ros2 launch urdf_tutorial display.launch.py model:=$PWD/01-myfirst.urdf"
   ]
  },
  {
   "cell_type": "markdown",
   "id": "f7e5834a-f530-48b5-983a-7c0c424c2909",
   "metadata": {
    "jp-MarkdownHeadingCollapsed": true
   },
   "source": [
    "## Part2: Tasks"
   ]
  },
  {
   "attachments": {},
   "cell_type": "markdown",
   "id": "41166f0a-c067-4cb5-9112-274fd9568297",
   "metadata": {},
   "source": [
    "### 1. Create your own robot and Environment URDF\n",
    "\n",
    "1. Modify [myrobot.urdf](./myrobot.urdf) to build your own robot and environment.\n",
    "1. Examine your URDF, make sure it displays correctly in Rviz!\n",
    "1. Download your URDF file and submit it to the edx."
   ]
  },
  {
   "cell_type": "markdown",
   "id": "bfd7d2a5-13bf-46f1-8c44-9894b6b56bb7",
   "metadata": {},
   "source": [
    "#### Examine your model"
   ]
  },
  {
   "cell_type": "code",
   "execution_count": null,
   "id": "d82d7caa-eb6d-4052-a3d1-f166be31e9ba",
   "metadata": {
    "scrolled": true
   },
   "outputs": [],
   "source": [
    "%%bash\n",
    "ros2 launch urdf_tutorial display.launch.py model:=$PWD/myrobot.urdf"
   ]
  },
  {
   "cell_type": "markdown",
   "id": "5a462617-6747-4328-8eb1-854a31ff9df4",
   "metadata": {},
   "source": [
    "#### More advance URDF examples and be found in folder `examples`."
   ]
  },
  {
   "cell_type": "code",
   "execution_count": null,
   "id": "cf07597d-332a-4f70-ab88-ccbac80440c9",
   "metadata": {
    "scrolled": true
   },
   "outputs": [],
   "source": [
    "%%bash\n",
    "# Kitchen envrionment (Not available)\n",
    "# ros2 launch urdf_tutorial display.launch.py model:=$PWD/iai_kitchen.urdf.xacro"
   ]
  },
  {
   "cell_type": "code",
   "execution_count": null,
   "id": "2834d919-b0ea-4ea0-b162-89170db7ab5a",
   "metadata": {
    "scrolled": true
   },
   "outputs": [],
   "source": [
    "%%bash\n",
    "# Boston Dynamics Spot\n",
    "ros2 launch urdf_tutorial display.launch.py model:=$PWD/spot.urdf.xacro"
   ]
  },
  {
   "cell_type": "markdown",
   "id": "ef4f697b-4a97-4610-93aa-fe08d60b28c3",
   "metadata": {},
   "source": [
    "## Part3: URDF generation using LLM\n",
    "\n",
    "Trying to generate URDF with large language models (e.g., [ChatGPT](https://chatgpt.com/), [Genmini](https://gemini.google.com), [Open Source Model](https://huggingface.co/)).\n",
    "\n",
    "The following code is an example of generateing URDF with model [Meta-Llama-3.1-8B](https://huggingface.co/meta-llama/Meta-Llama-3.1-8B)."
   ]
  },
  {
   "cell_type": "markdown",
   "id": "aa599644-4780-4d28-82fb-27e75084e100",
   "metadata": {},
   "source": [
    "### Describe the robot you want"
   ]
  },
  {
   "cell_type": "code",
   "execution_count": 1,
   "id": "3b8524b7-58b0-42d9-9f76-e625f5398aaa",
   "metadata": {},
   "outputs": [],
   "source": [
    "urdf_descriptions = '''\n",
    "A box body with 4 wheels at each corner, set each part with a distinct color.\n",
    "'''"
   ]
  },
  {
   "cell_type": "markdown",
   "id": "b62f4757-2466-47dd-aad9-474238ae6c7e",
   "metadata": {},
   "source": [
    "Run the following code cell to send request to LLM"
   ]
  },
  {
   "cell_type": "code",
   "execution_count": 4,
   "id": "ca570746-e3c8-449a-b448-e0e8484dc7f2",
   "metadata": {
    "jupyter": {
     "source_hidden": true
    }
   },
   "outputs": [
    {
     "data": {
      "text/markdown": [
       "```xml\n",
       "<?xml version=\"1.0\"?>\n",
       "<robot name=\"BoxRobot\">\n",
       "  <link name=\"body\">\n",
       "    <visual>\n",
       "      <geometry>\n",
       "        <box size=\".5 .4 .3\"/>\n",
       "      </geometry>\n",
       "      <material>\n",
       "        <color rgba=\"1 0 0 1\"/> <!-- red -->\n",
       "      </material>\n",
       "    </visual>\n",
       "    <collision>\n",
       "      <geometry>\n",
       "        <box size=\".5 .4 .3\"/>\n",
       "      </geometry>\n",
       "    </collision>\n",
       "  </link>\n",
       "\n",
       "  <link name=\"front_left_wheel\">\n",
       "    <visual>\n",
       "      <geometry>\n",
       "        <cylinder length=\"0.05\" radius=\"0.1\"/>\n",
       "      </geometry>\n",
       "      <material>\n",
       "        <color rgba=\"0 1 0 1\"/> <!-- green -->\n",
       "      </material>\n",
       "    </visual>\n",
       "    <collision>\n",
       "      <geometry>\n",
       "        <cylinder length=\"0.05\" radius=\"0.1\"/>\n",
       "      </geometry>\n",
       "    </collision>\n",
       "  </link>\n",
       "\n",
       "  <link name=\"front_right_wheel\">\n",
       "    <visual>\n",
       "      <geometry>\n",
       "        <cylinder length=\"0.05\" radius=\"0.1\"/>\n",
       "      </geometry>\n",
       "      <material>\n",
       "        <color rgba=\"0 0 1 1\"/> <!-- blue -->\n",
       "      </material>\n",
       "    </visual>\n",
       "    <collision>\n",
       "      <geometry>\n",
       "        <cylinder length=\"0.05\" radius=\"0.1\"/>\n",
       "      </geometry>\n",
       "    </collision>\n",
       "  </link>\n",
       "\n",
       "  <link name=\"back_left_wheel\">\n",
       "    <visual>\n",
       "      <geometry>\n",
       "        <cylinder length=\"0.05\" radius=\"0.1\"/>\n",
       "      </geometry>\n",
       "      <material>\n",
       "        <color rgba=\"1 0 .5 1\"/> <!-- magenta -->\n",
       "      </material>\n",
       "    </visual>\n",
       "    <collision>\n",
       "      <geometry>\n",
       "        <cylinder length=\"0.05\" radius=\"0.1\"/>\n",
       "      </geometry>\n",
       "    </collision>\n",
       "  </link>\n",
       "\n",
       "  <link name=\"back_right_wheel\">\n",
       "    <visual>\n",
       "      <geometry>\n",
       "        <cylinder length=\"0.05\" radius=\"0.1\"/>\n",
       "      </geometry>\n",
       "      <material>\n",
       "        <color rgba=\".5 .5 .5 1\"/> <!-- gray -->\n",
       "      </material>\n",
       "    </visual>\n",
       "    <collision>\n",
       "      <geometry>\n",
       "        <cylinder length=\"0.05\" radius=\"0.1\"/>\n",
       "      </geometry>\n",
       "    </collision>\n",
       "  </link>\n",
       "\n",
       "  <joint name=\"front_left_wheel_joint\" type=\"fixed\">\n",
       "    <parent link=\"body\"/>\n",
       "    <child link=\"front_left_wheel\"/>\n",
       "    <xxyz>-.25 -.3 0</xyzxyzxyz>\n",
       "  </joint>\n",
       "\n",
       "  <joint name=\"front_right_wheel_joint\" type=\"fixed\">\n",
       "    <parent link=\"body\"/>\n",
       "    <child link=\"front_right_wheel\"/>\n",
       "    <xxyz>.25 -.3 0</xyzxyzxyz>\n",
       "  </joint>\n",
       "\n",
       "  <joint name=\"back_left_wheel_joint\" type=\"fixed\">\n",
       "    <parent link=\"body\"/>\n",
       "    <child link=\"back_left_wheel\"/>\n",
       "    <xxyz>-.25 .3 0</xyzxyzxyz>\n",
       "  </joint>\n",
       "\n",
       "  <joint name=\"back_right_wheel_joint\" type=\"fixed\">\n",
       "    <parent link=\"body\"/>\n",
       "    <child link=\"back_right_wheel\"/>\n",
       "    <xxyz>.25 .3 0</xyzxyzxyz>\n",
       "  </joint>\n",
       "</robot>\n",
       "```"
      ],
      "text/plain": [
       "<IPython.core.display.Markdown object>"
      ]
     },
     "metadata": {},
     "output_type": "display_data"
    },
    {
     "data": {
      "text/markdown": [
       "Generated URDF save to file [generated_robot.urdf](./generated_robot.urdf)"
      ],
      "text/plain": [
       "<IPython.core.display.Markdown object>"
      ]
     },
     "metadata": {},
     "output_type": "display_data"
    }
   ],
   "source": [
    "from IPython.display import display, Markdown, clear_output\n",
    "from ollama import Client\n",
    "import os\n",
    "import re\n",
    "\n",
    "# Set LLM api url and model\n",
    "try:\n",
    "    API_URL = os.environ['OLLAMA_API_URL']\n",
    "    LLM_MODEL = os.environ['OLLAMA_MODEL']\n",
    "except KeyError:\n",
    "    print(\"Error: Ollama API url or model not defined in environment variables!\")\n",
    "\n",
    "# Call set request to LLM with Ollama\n",
    "client = Client(host=API_URL)\n",
    "stream = client.chat(model=LLM_MODEL, messages=[\n",
    "  {\n",
    "    'role': 'user',\n",
    "    'content': f'''\n",
    "    Generate a robot URDF according to the following descriptions:\n",
    "    ---\n",
    "    {urdf_descriptions}\n",
    "    ---\n",
    "    No explainations, response in XML format.\n",
    "    ''',\n",
    "  },\n",
    "], stream=True)\n",
    "\n",
    "# Print the response of the LLM\n",
    "md_string = ''\n",
    "for chunk in stream:\n",
    "    md_string += chunk['message']['content']\n",
    "    clear_output(wait=True)\n",
    "    display(Markdown(md_string))\n",
    "\n",
    "# Save the LLM a URDF file\n",
    "generated_file = 'generated_robot.urdf'\n",
    "with open(f'./{generated_file}', \"w\") as file:\n",
    "    pattern = rf\"```xml\\s(.*?)```\"\n",
    "    match = re.search(pattern, md_string, re.DOTALL)\n",
    "    xml_string = match.group(1).strip()\n",
    "    file.write(xml_string)\n",
    "# clear_output(wait=True)\n",
    "display(Markdown('Generated URDF save to file [generated_robot.urdf](./generated_robot.urdf)'))"
   ]
  },
  {
   "cell_type": "markdown",
   "id": "e6f8099c-3bf5-4bba-99f5-50427f38b5ef",
   "metadata": {},
   "source": [
    "### Verify the generated URDF in Rviz"
   ]
  },
  {
   "cell_type": "markdown",
   "id": "313e8a5d-f2a2-41ea-af61-2a0c1833d1ed",
   "metadata": {},
   "source": [
    "#### Display remote desktop\n",
    "Open a virtual display to show the visualization tool Rviz. Arrange the layout of the tabs by dragging them."
   ]
  },
  {
   "cell_type": "code",
   "execution_count": null,
   "id": "96c938ca-e252-4677-9765-9a8d09b8adb9",
   "metadata": {},
   "outputs": [],
   "source": [
    "%run ../utils.py\n",
    "display_desktop()"
   ]
  },
  {
   "cell_type": "code",
   "execution_count": null,
   "id": "2f2e5c23-cb2c-4b5c-9b33-ea7d56b1f3d0",
   "metadata": {
    "scrolled": true
   },
   "outputs": [],
   "source": [
    "%%bash\n",
    "# Varify in Rviz\n",
    "ros2 launch urdf_tutorial display.launch.py model:=$PWD/generated_robot.urdf"
   ]
  },
  {
   "cell_type": "code",
   "execution_count": null,
   "id": "4cce6f00-ef70-42e6-86d1-61e877218477",
   "metadata": {},
   "outputs": [],
   "source": []
  }
 ],
 "metadata": {
  "kernelspec": {
   "display_name": "Python 3 (ipykernel)",
   "language": "python",
   "name": "python3"
  },
  "language_info": {
   "codemirror_mode": {
    "name": "ipython",
    "version": 3
   },
   "file_extension": ".py",
   "mimetype": "text/x-python",
   "name": "python",
   "nbconvert_exporter": "python",
   "pygments_lexer": "ipython3",
   "version": "3.10.11"
  }
 },
 "nbformat": 4,
 "nbformat_minor": 5
}
