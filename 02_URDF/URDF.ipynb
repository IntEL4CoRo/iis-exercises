{
 "cells": [
  {
   "attachments": {},
   "cell_type": "markdown",
   "id": "396ae36f-6db4-4726-92cc-9362a93668e1",
   "metadata": {},
   "source": [
    "# Exercise2: Robots and their Environment\n",
    "\n",
    "With this exercise, you will understand the URDF (Unified Robot Description Format) structure, creating a simple robot model, and exam your robot in RViz."
   ]
  },
  {
   "cell_type": "markdown",
   "id": "a4747cac-3bec-4ab5-b178-15629033b07f",
   "metadata": {},
   "source": [
    "## Part1: Tutorial\n",
    "\n",
    "### Fetch the tutorial materials"
   ]
  },
  {
   "cell_type": "code",
   "execution_count": 1,
   "id": "43b38e14-88de-4cb2-a872-fcdebee7cfd2",
   "metadata": {
    "scrolled": true
   },
   "outputs": [
    {
     "name": "stdout",
     "output_type": "stream",
     "text": [
      "Cloning into 'urdf_tutorial'...\n",
      "remote: Enumerating objects: 508, done.\u001b[K\n",
      "remote: Counting objects: 100% (18/18), done.\u001b[K\n",
      "remote: Compressing objects: 100% (12/12), done.\u001b[K\n",
      "remote: Total 508 (delta 12), reused 6 (delta 6), pack-reused 490\u001b[K\n",
      "Receiving objects: 100% (508/508), 1.81 MiB | 15.83 MiB/s, done.\n",
      "Resolving deltas: 100% (256/256), done.\n"
     ]
    }
   ],
   "source": [
    "!git clone https://github.com/ros/urdf_tutorial.git -b ros2\n",
    "!cp urdf_tutorial/urdf/* $PWD"
   ]
  },
  {
   "cell_type": "markdown",
   "id": "13f167a5-9590-4f7a-80df-08ffd772055c",
   "metadata": {},
   "source": [
    "### ROS Official URDF Tutorial\n",
    "\n",
    "|  Tutorials |  Name | URDF File (click to open file)  |\n",
    "|---|---|---|\n",
    "| [Building a visual robot model from scratch](https://docs.ros.org/en/humble/Tutorials/Intermediate/URDF/Building-a-Visual-Robot-Model-with-URDF-from-Scratch.html) | One Shape | [01-myfirst.urdf](./01-myfirst.urdf) |\n",
    "|  |  Multiple Shapes  | [02-multipleshapes.urdf](./02-multipleshapes.urdf)  |\n",
    "|   |  Origins |  [03-origins.urdf.urdf](./03-origins.urdf.urdf) |\n",
    "|   |  Material |  [04-materials.urdf](./04-materials.urdf)|\n",
    "|   |  Completed Visual Model |  [05-visual.urdf](./05-visual.urdf) |\n",
    "|  [Building a movable robot model](https://docs.ros.org/en/humble/Tutorials/Intermediate/URDF/Building-a-Movable-Robot-Model-with-URDF.html) | Movable Robot Model |  [06-flexible.urdf](./06-flexible.urdf) |\n",
    "| [Adding physical and collision properties](https://docs.ros.org/en/humble/Tutorials/Intermediate/URDF/Adding-Physical-and-Collision-Properties-to-a-URDF-Model.html) |  Physical and Collision | [07-physics.urdf](./07-physics.urdf) |\n",
    "| [Using Xacro to clean up your code](https://docs.ros.org/en/humble/Tutorials/Intermediate/URDF/Using-Xacro-to-Clean-Up-a-URDF-File.html) |  Using Xacro |   [08-macroed.urdf.xacro](./08-macroed.urdf.xacro) |"
   ]
  },
  {
   "cell_type": "markdown",
   "id": "a171598c-bfd2-4d10-9b31-18176d504456",
   "metadata": {},
   "source": [
    "#### Display remote desktop\n",
    "Open a virtual display to show the visualization tool Rviz. Arrange the layout of the tabs by dragging them."
   ]
  },
  {
   "cell_type": "code",
   "execution_count": 3,
   "id": "35b5d47a-85b4-4570-b95e-3405913b28a5",
   "metadata": {},
   "outputs": [],
   "source": [
    "%run ../utils.py\n",
    "display_desktop()"
   ]
  },
  {
   "cell_type": "markdown",
   "id": "177b4362-9088-410a-95ac-5236e233e330",
   "metadata": {},
   "source": [
    "#### Examine URDF files in Rviz\n",
    "\n",
    "> Reopen the Rviz after modifying the URDF file.\n",
    "\n",
    "> Press the stop button to close the opened Rviz window and run the code cell again."
   ]
  },
  {
   "cell_type": "code",
   "execution_count": null,
   "id": "7c8b8ec4-51ec-401e-bf45-9cebef4b916a",
   "metadata": {
    "scrolled": true
   },
   "outputs": [],
   "source": [
    "%%bash\n",
    "ros2 launch urdf_tutorial display.launch.py model:=$PWD/01-myfirst.urdf"
   ]
  },
  {
   "cell_type": "markdown",
   "id": "f7e5834a-f530-48b5-983a-7c0c424c2909",
   "metadata": {},
   "source": [
    "## Part2: Tasks"
   ]
  },
  {
   "attachments": {},
   "cell_type": "markdown",
   "id": "41166f0a-c067-4cb5-9112-274fd9568297",
   "metadata": {},
   "source": [
    "### 1. Create your own robot and Environment URDF\n",
    "\n",
    "1. Modify [myrobot.urdf](./myrobot.urdf) to build your own robot and environment.\n",
    "1. Examine your URDF, make sure it displays correctly in Rviz!\n",
    "1. Download your URDF file and submit it to the edx."
   ]
  },
  {
   "cell_type": "markdown",
   "id": "bfd7d2a5-13bf-46f1-8c44-9894b6b56bb7",
   "metadata": {},
   "source": [
    "#### Examine your model"
   ]
  },
  {
   "cell_type": "code",
   "execution_count": 5,
   "id": "d82d7caa-eb6d-4052-a3d1-f166be31e9ba",
   "metadata": {
    "scrolled": true
   },
   "outputs": [
    {
     "name": "stdout",
     "output_type": "stream",
     "text": [
      "[INFO] [launch]: All log files can be found below /home/jovyan/.ros/log/2024-07-16-08-10-16-183470-5a883daa05d7-88921\n",
      "[INFO] [launch]: Default logging verbosity is set to INFO\n",
      "[INFO] [robot_state_publisher-1]: process started with pid [88923]\n",
      "[INFO] [joint_state_publisher_gui-2]: process started with pid [88925]\n",
      "[INFO] [rviz2-3]: process started with pid [88927]\n",
      "[robot_state_publisher-1] [INFO] [1721117416.397930771] [robot_state_publisher]: got segment base_link\n",
      "[rviz2-3] QStandardPaths: XDG_RUNTIME_DIR not set, defaulting to '/tmp/runtime-jovyan'\n",
      "[rviz2-3] [INFO] [1721117416.580107805] [rviz2]: Stereo is NOT SUPPORTED\n",
      "[rviz2-3] [INFO] [1721117416.580188304] [rviz2]: OpenGl version: 4.5 (GLSL 4.5)\n",
      "[joint_state_publisher_gui-2] QStandardPaths: XDG_RUNTIME_DIR not set, defaulting to '/tmp/runtime-jovyan'\n",
      "[rviz2-3] [INFO] [1721117416.634708872] [rviz2]: Stereo is NOT SUPPORTED\n",
      "[joint_state_publisher_gui-2] [INFO] [1721117416.655093381] [joint_state_publisher]: Waiting for robot_description to be published on the robot_description topic...\n",
      "[joint_state_publisher_gui-2] [INFO] [1721117416.666476523] [joint_state_publisher]: Centering\n",
      "[joint_state_publisher_gui-2] [INFO] [1721117416.706558790] [joint_state_publisher]: Centering\n",
      "[WARNING] [launch]: user interrupted with ctrl-c (SIGINT)\n",
      "[rviz2-3] [INFO] [1721117422.814557731] [rclcpp]: signal_handler(signum=2)\n",
      "[INFO] [rviz2-3]: sending signal 'SIGINT' to process[rviz2-3]\n",
      "[INFO] [joint_state_publisher_gui-2]: sending signal 'SIGINT' to process[joint_state_publisher_gui-2]\n",
      "[INFO] [robot_state_publisher-1]: sending signal 'SIGINT' to process[robot_state_publisher-1]\n",
      "[robot_state_publisher-1] [INFO] [1721117422.814593799] [rclcpp]: signal_handler(signum=2)\n",
      "[rviz2-3] [INFO] [1721117422.816895203] [rclcpp]: signal_handler(signum=2)\n",
      "[ERROR] [robot_state_publisher-1]: process has died [pid 88923, exit code -2, cmd '/opt/ros/humble/lib/robot_state_publisher/robot_state_publisher --ros-args --params-file /tmp/launch_params_qxo8b2xq'].\n",
      "[ERROR] [joint_state_publisher_gui-2]: process has died [pid 88925, exit code -2, cmd '/opt/ros/humble/lib/joint_state_publisher_gui/joint_state_publisher_gui --ros-args'].\n",
      "Error while terminating subprocess (pid=88919): \n",
      "[INFO] [rviz2-3]: process has finished cleanly [pid 88927]\n"
     ]
    }
   ],
   "source": [
    "%%bash\n",
    "ros2 launch urdf_tutorial display.launch.py model:=$PWD/myrobot.urdf"
   ]
  },
  {
   "cell_type": "markdown",
   "id": "5a462617-6747-4328-8eb1-854a31ff9df4",
   "metadata": {},
   "source": [
    "#### More advance URDF examples and be found in folder `examples`."
   ]
  },
  {
   "cell_type": "code",
   "execution_count": 9,
   "id": "a3583d71-9376-49ee-b565-ef3509953e63",
   "metadata": {
    "scrolled": true
   },
   "outputs": [
    {
     "name": "stdout",
     "output_type": "stream",
     "text": [
      "[INFO] [launch]: All log files can be found below /home/jovyan/.ros/log/2024-07-16-08-11-12-879241-5a883daa05d7-89200\n",
      "[INFO] [launch]: Default logging verbosity is set to INFO\n",
      "[ERROR] [launch]: Caught exception in launch (see debug for traceback): executed command failed. Command: xacro /home/jovyan/work/02_URDF/examples/iai_kitchen.urdf.xacro\n",
      "Captured stderr output: error: No such file or directory: /home/jovyan/ros2_ws/install/iai_kitchen/share/iai_kitchen/urdf_obj/IAI_oven_area.urdf.xacro [Errno 2] No such file or directory: '/home/jovyan/ros2_ws/install/iai_kitchen/share/iai_kitchen/urdf_obj/IAI_oven_area.urdf.xacro'\n",
      "when processing file: /home/jovyan/work/02_URDF/examples/iai_kitchen.urdf.xacro\n",
      "\n"
     ]
    },
    {
     "ename": "CalledProcessError",
     "evalue": "Command 'b'# Kitchen envrionment\\nros2 launch urdf_tutorial display.launch.py model:=$PWD/examples/iai_kitchen.urdf.xacro\\n'' returned non-zero exit status 1.",
     "output_type": "error",
     "traceback": [
      "\u001b[0;31m---------------------------------------------------------------------------\u001b[0m",
      "\u001b[0;31mCalledProcessError\u001b[0m                        Traceback (most recent call last)",
      "Cell \u001b[0;32mIn[9], line 1\u001b[0m\n\u001b[0;32m----> 1\u001b[0m \u001b[43mget_ipython\u001b[49m\u001b[43m(\u001b[49m\u001b[43m)\u001b[49m\u001b[38;5;241;43m.\u001b[39;49m\u001b[43mrun_cell_magic\u001b[49m\u001b[43m(\u001b[49m\u001b[38;5;124;43m'\u001b[39;49m\u001b[38;5;124;43mbash\u001b[39;49m\u001b[38;5;124;43m'\u001b[39;49m\u001b[43m,\u001b[49m\u001b[43m \u001b[49m\u001b[38;5;124;43m'\u001b[39;49m\u001b[38;5;124;43m'\u001b[39;49m\u001b[43m,\u001b[49m\u001b[43m \u001b[49m\u001b[38;5;124;43m'\u001b[39;49m\u001b[38;5;124;43m# Kitchen envrionment\u001b[39;49m\u001b[38;5;130;43;01m\\n\u001b[39;49;00m\u001b[38;5;124;43mros2 launch urdf_tutorial display.launch.py model:=$PWD/examples/iai_kitchen.urdf.xacro\u001b[39;49m\u001b[38;5;130;43;01m\\n\u001b[39;49;00m\u001b[38;5;124;43m'\u001b[39;49m\u001b[43m)\u001b[49m\n",
      "File \u001b[0;32m/opt/conda/lib/python3.10/site-packages/IPython/core/interactiveshell.py:2478\u001b[0m, in \u001b[0;36mInteractiveShell.run_cell_magic\u001b[0;34m(self, magic_name, line, cell)\u001b[0m\n\u001b[1;32m   2476\u001b[0m \u001b[38;5;28;01mwith\u001b[39;00m \u001b[38;5;28mself\u001b[39m\u001b[38;5;241m.\u001b[39mbuiltin_trap:\n\u001b[1;32m   2477\u001b[0m     args \u001b[38;5;241m=\u001b[39m (magic_arg_s, cell)\n\u001b[0;32m-> 2478\u001b[0m     result \u001b[38;5;241m=\u001b[39m \u001b[43mfn\u001b[49m\u001b[43m(\u001b[49m\u001b[38;5;241;43m*\u001b[39;49m\u001b[43margs\u001b[49m\u001b[43m,\u001b[49m\u001b[43m \u001b[49m\u001b[38;5;241;43m*\u001b[39;49m\u001b[38;5;241;43m*\u001b[39;49m\u001b[43mkwargs\u001b[49m\u001b[43m)\u001b[49m\n\u001b[1;32m   2480\u001b[0m \u001b[38;5;66;03m# The code below prevents the output from being displayed\u001b[39;00m\n\u001b[1;32m   2481\u001b[0m \u001b[38;5;66;03m# when using magics with decodator @output_can_be_silenced\u001b[39;00m\n\u001b[1;32m   2482\u001b[0m \u001b[38;5;66;03m# when the last Python token in the expression is a ';'.\u001b[39;00m\n\u001b[1;32m   2483\u001b[0m \u001b[38;5;28;01mif\u001b[39;00m \u001b[38;5;28mgetattr\u001b[39m(fn, magic\u001b[38;5;241m.\u001b[39mMAGIC_OUTPUT_CAN_BE_SILENCED, \u001b[38;5;28;01mFalse\u001b[39;00m):\n",
      "File \u001b[0;32m/opt/conda/lib/python3.10/site-packages/IPython/core/magics/script.py:154\u001b[0m, in \u001b[0;36mScriptMagics._make_script_magic.<locals>.named_script_magic\u001b[0;34m(line, cell)\u001b[0m\n\u001b[1;32m    152\u001b[0m \u001b[38;5;28;01melse\u001b[39;00m:\n\u001b[1;32m    153\u001b[0m     line \u001b[38;5;241m=\u001b[39m script\n\u001b[0;32m--> 154\u001b[0m \u001b[38;5;28;01mreturn\u001b[39;00m \u001b[38;5;28;43mself\u001b[39;49m\u001b[38;5;241;43m.\u001b[39;49m\u001b[43mshebang\u001b[49m\u001b[43m(\u001b[49m\u001b[43mline\u001b[49m\u001b[43m,\u001b[49m\u001b[43m \u001b[49m\u001b[43mcell\u001b[49m\u001b[43m)\u001b[49m\n",
      "File \u001b[0;32m/opt/conda/lib/python3.10/site-packages/IPython/core/magics/script.py:314\u001b[0m, in \u001b[0;36mScriptMagics.shebang\u001b[0;34m(self, line, cell)\u001b[0m\n\u001b[1;32m    309\u001b[0m \u001b[38;5;28;01mif\u001b[39;00m args\u001b[38;5;241m.\u001b[39mraise_error \u001b[38;5;129;01mand\u001b[39;00m p\u001b[38;5;241m.\u001b[39mreturncode \u001b[38;5;241m!=\u001b[39m \u001b[38;5;241m0\u001b[39m:\n\u001b[1;32m    310\u001b[0m     \u001b[38;5;66;03m# If we get here and p.returncode is still None, we must have\u001b[39;00m\n\u001b[1;32m    311\u001b[0m     \u001b[38;5;66;03m# killed it but not yet seen its return code. We don't wait for it,\u001b[39;00m\n\u001b[1;32m    312\u001b[0m     \u001b[38;5;66;03m# in case it's stuck in uninterruptible sleep. -9 = SIGKILL\u001b[39;00m\n\u001b[1;32m    313\u001b[0m     rc \u001b[38;5;241m=\u001b[39m p\u001b[38;5;241m.\u001b[39mreturncode \u001b[38;5;129;01mor\u001b[39;00m \u001b[38;5;241m-\u001b[39m\u001b[38;5;241m9\u001b[39m\n\u001b[0;32m--> 314\u001b[0m     \u001b[38;5;28;01mraise\u001b[39;00m CalledProcessError(rc, cell)\n",
      "\u001b[0;31mCalledProcessError\u001b[0m: Command 'b'# Kitchen envrionment\\nros2 launch urdf_tutorial display.launch.py model:=$PWD/examples/iai_kitchen.urdf.xacro\\n'' returned non-zero exit status 1."
     ]
    }
   ],
   "source": [
    "%%bash\n",
    "# Kitchen envrionment\n",
    "ros2 launch urdf_tutorial display.launch.py model:=$PWD/examples/iai_kitchen.urdf.xacro"
   ]
  },
  {
   "cell_type": "code",
   "execution_count": 8,
   "id": "2834d919-b0ea-4ea0-b162-89170db7ab5a",
   "metadata": {
    "scrolled": true
   },
   "outputs": [
    {
     "name": "stdout",
     "output_type": "stream",
     "text": [
      "[INFO] [launch]: All log files can be found below /home/jovyan/.ros/log/2024-07-16-08-10-48-065585-5a883daa05d7-89074\n",
      "[INFO] [launch]: Default logging verbosity is set to INFO\n",
      "[INFO] [robot_state_publisher-1]: process started with pid [89076]\n",
      "[INFO] [joint_state_publisher_gui-2]: process started with pid [89078]\n",
      "[INFO] [rviz2-3]: process started with pid [89080]\n",
      "[robot_state_publisher-1] [INFO] [1721117448.312549111] [robot_state_publisher]: got segment arm_link_el0\n",
      "[robot_state_publisher-1] [INFO] [1721117448.312611980] [robot_state_publisher]: got segment arm_link_el1\n",
      "[robot_state_publisher-1] [INFO] [1721117448.312618989] [robot_state_publisher]: got segment arm_link_fngr\n",
      "[robot_state_publisher-1] [INFO] [1721117448.312622765] [robot_state_publisher]: got segment arm_link_hr0\n",
      "[robot_state_publisher-1] [INFO] [1721117448.312625857] [robot_state_publisher]: got segment arm_link_sh0\n",
      "[robot_state_publisher-1] [INFO] [1721117448.312628863] [robot_state_publisher]: got segment arm_link_sh1\n",
      "[robot_state_publisher-1] [INFO] [1721117448.312632001] [robot_state_publisher]: got segment arm_link_wr0\n",
      "[robot_state_publisher-1] [INFO] [1721117448.312635023] [robot_state_publisher]: got segment arm_link_wr1\n",
      "[robot_state_publisher-1] [INFO] [1721117448.312637912] [robot_state_publisher]: got segment base_link\n",
      "[robot_state_publisher-1] [INFO] [1721117448.312641019] [robot_state_publisher]: got segment body\n",
      "[robot_state_publisher-1] [INFO] [1721117448.312644061] [robot_state_publisher]: got segment front_left_hip\n",
      "[robot_state_publisher-1] [INFO] [1721117448.312647232] [robot_state_publisher]: got segment front_left_lower_leg\n",
      "[robot_state_publisher-1] [INFO] [1721117448.312650461] [robot_state_publisher]: got segment front_left_upper_leg\n",
      "[robot_state_publisher-1] [INFO] [1721117448.312653569] [robot_state_publisher]: got segment front_rail\n",
      "[robot_state_publisher-1] [INFO] [1721117448.312656640] [robot_state_publisher]: got segment front_right_hip\n",
      "[robot_state_publisher-1] [INFO] [1721117448.312659676] [robot_state_publisher]: got segment front_right_lower_leg\n",
      "[robot_state_publisher-1] [INFO] [1721117448.312662831] [robot_state_publisher]: got segment front_right_upper_leg\n",
      "[robot_state_publisher-1] [INFO] [1721117448.312665739] [robot_state_publisher]: got segment rear_left_hip\n",
      "[robot_state_publisher-1] [INFO] [1721117448.312668755] [robot_state_publisher]: got segment rear_left_lower_leg\n",
      "[robot_state_publisher-1] [INFO] [1721117448.312671787] [robot_state_publisher]: got segment rear_left_upper_leg\n",
      "[robot_state_publisher-1] [INFO] [1721117448.312674781] [robot_state_publisher]: got segment rear_rail\n",
      "[robot_state_publisher-1] [INFO] [1721117448.312677753] [robot_state_publisher]: got segment rear_right_hip\n",
      "[robot_state_publisher-1] [INFO] [1721117448.312680715] [robot_state_publisher]: got segment rear_right_lower_leg\n",
      "[robot_state_publisher-1] [INFO] [1721117448.312683680] [robot_state_publisher]: got segment rear_right_upper_leg\n",
      "[rviz2-3] QStandardPaths: XDG_RUNTIME_DIR not set, defaulting to '/tmp/runtime-jovyan'\n",
      "[rviz2-3] [INFO] [1721117448.437495145] [rviz2]: Stereo is NOT SUPPORTED\n",
      "[rviz2-3] [INFO] [1721117448.437553801] [rviz2]: OpenGl version: 4.5 (GLSL 4.5)\n",
      "[rviz2-3] [INFO] [1721117448.474600653] [rviz2]: Stereo is NOT SUPPORTED\n",
      "[joint_state_publisher_gui-2] QStandardPaths: XDG_RUNTIME_DIR not set, defaulting to '/tmp/runtime-jovyan'\n",
      "[joint_state_publisher_gui-2] [INFO] [1721117448.567095286] [joint_state_publisher]: Waiting for robot_description to be published on the robot_description topic...\n",
      "[joint_state_publisher_gui-2] [INFO] [1721117448.576951978] [joint_state_publisher]: Centering\n",
      "[joint_state_publisher_gui-2] [INFO] [1721117448.627893522] [joint_state_publisher]: Centering\n",
      "[joint_state_publisher_gui-2] [INFO] [1721117457.119853927] [joint_state_publisher]: Randomizing\n",
      "[WARNING] [launch]: user interrupted with ctrl-c (SIGINT)\n",
      "[rviz2-3] [INFO] [1721117462.537870651] [rclcpp]: signal_handler(signum=2)\n",
      "[INFO] [rviz2-3]: sending signal 'SIGINT' to process[rviz2-3]\n",
      "[INFO] [joint_state_publisher_gui-2]: sending signal 'SIGINT' to process[joint_state_publisher_gui-2]\n",
      "[INFO] [robot_state_publisher-1]: sending signal 'SIGINT' to process[robot_state_publisher-1]\n",
      "[robot_state_publisher-1] [INFO] [1721117462.537894655] [rclcpp]: signal_handler(signum=2)\n",
      "[rviz2-3] [INFO] [1721117462.539921202] [rclcpp]: signal_handler(signum=2)\n",
      "[ERROR] [robot_state_publisher-1]: process has died [pid 89076, exit code -2, cmd '/opt/ros/humble/lib/robot_state_publisher/robot_state_publisher --ros-args --params-file /tmp/launch_params_ak7tj22o'].\n",
      "[ERROR] [joint_state_publisher_gui-2]: process has died [pid 89078, exit code -2, cmd '/opt/ros/humble/lib/joint_state_publisher_gui/joint_state_publisher_gui --ros-args'].\n",
      "Error while terminating subprocess (pid=89072): \n",
      "[INFO] [rviz2-3]: process has finished cleanly [pid 89080]\n"
     ]
    }
   ],
   "source": [
    "%%bash\n",
    "# Boston Dynamics Spot\n",
    "ros2 launch urdf_tutorial display.launch.py model:=$PWD/examples/spot.urdf.xacro"
   ]
  },
  {
   "cell_type": "markdown",
   "id": "ef4f697b-4a97-4610-93aa-fe08d60b28c3",
   "metadata": {},
   "source": [
    "### 2. URDF generation using LLM\n",
    "\n",
    "Trying to generate URDF with large language models (e.g., [ChatGPT](https://chatgpt.com/), [Genmini](https://gemini.google.com), [Open Source Model](https://huggingface.co/))."
   ]
  },
  {
   "cell_type": "code",
   "execution_count": null,
   "id": "ca570746-e3c8-449a-b448-e0e8484dc7f2",
   "metadata": {},
   "outputs": [],
   "source": []
  }
 ],
 "metadata": {
  "kernelspec": {
   "display_name": "Python 3 (ipykernel)",
   "language": "python",
   "name": "python3"
  },
  "language_info": {
   "codemirror_mode": {
    "name": "ipython",
    "version": 3
   },
   "file_extension": ".py",
   "mimetype": "text/x-python",
   "name": "python",
   "nbconvert_exporter": "python",
   "pygments_lexer": "ipython3",
   "version": "3.10.11"
  }
 },
 "nbformat": 4,
 "nbformat_minor": 5
}
